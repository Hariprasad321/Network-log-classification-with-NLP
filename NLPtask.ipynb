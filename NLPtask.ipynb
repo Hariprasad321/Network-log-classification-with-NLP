{
 "cells": [
  {
   "cell_type": "code",
   "execution_count": 10,
   "id": "891b8d10-8971-4ecc-aa05-f9c937a6d738",
   "metadata": {},
   "outputs": [],
   "source": [
    "import pandas as pd\n",
    "from sklearn.feature_extraction.text import TfidfVectorizer\n",
    "from sklearn.linear_model import LogisticRegression\n",
    "import pickle\n",
    "import os"
   ]
  },
  {
   "cell_type": "code",
   "execution_count": 11,
   "id": "7d016565-0ddb-4652-b148-b95bbc1699ff",
   "metadata": {},
   "outputs": [],
   "source": [
    "if not os.path.exists('models'):\n",
    "    os.makedirs('models')"
   ]
  },
  {
   "cell_type": "code",
   "execution_count": 16,
   "id": "1d734edd-49fd-4c71-92bf-e3db98dde0a3",
   "metadata": {},
   "outputs": [],
   "source": [
    "def classify_logs(log_data):\n",
    "    try:\n",
    "        with open('models/log_classifier.pkl', 'rb') as f:\n",
    "            classifier = pickle.load(f)\n",
    "            vectorizer = pickle.load(f)\n",
    "    except FileNotFoundError:\n",
    "        vectorizer = TfidfVectorizer()\n",
    "        X_train = vectorizer.fit_transform(logs)\n",
    "        y_train = labels\n",
    "\n",
    "        classifier = LogisticRegression()\n",
    "        classifier.fit(X_train, y_train)\n",
    "\n",
    "        with open('models/log_classifier.pkl', 'wb') as f:\n",
    "            pickle.dump(classifier, f)\n",
    "            pickle.dump(vectorizer, f)\n",
    "\n",
    "    # Transform log data and predict threats\n",
    "    X_test = vectorizer.transform(log_data)\n",
    "    predictions = classifier.predict(X_test)\n",
    "    log_results = pd.DataFrame({'log': log_data, 'threat': predictions})\n",
    "    threats = log_results[log_results['threat'] == 1]\n",
    "    return threats"
   ]
  },
  {
   "cell_type": "code",
   "execution_count": 17,
   "id": "48f373b9-c3b2-412b-b100-5f1ba3835c00",
   "metadata": {},
   "outputs": [
    {
     "name": "stdout",
     "output_type": "stream",
     "text": [
      "                                             log  threat\n",
      "1    'Failed login attempt from IP 192.168.1.1',       1\n",
      "3    'Failed login attempt from IP 192.168.1.2',       1\n",
      "5       'Failed login attempt from IP 10.0.0.6',       1\n",
      "7    'Failed login attempt from IP 192.168.1.3',       1\n",
      "9       'Failed login attempt from IP 10.0.0.7',       1\n",
      "11   'Failed login attempt from IP 192.168.1.4',       1\n",
      "13      'Failed login attempt from IP 10.0.0.8',       1\n",
      "15   'Failed login attempt from IP 192.168.1.5',       1\n",
      "17      'Failed login attempt from IP 10.0.0.9',       1\n",
      "19   'Failed login attempt from IP 192.168.1.6',       1\n",
      "21     'Failed login attempt from IP 10.0.0.10',       1\n",
      "23   'Failed login attempt from IP 192.168.1.7',       1\n",
      "25     'Failed login attempt from IP 10.0.0.11',       1\n",
      "27   'Failed login attempt from IP 192.168.1.8',       1\n",
      "29     'Failed login attempt from IP 10.0.0.12',       1\n",
      "31   'Failed login attempt from IP 192.168.1.9',       1\n",
      "33     'Failed login attempt from IP 10.0.0.13',       1\n",
      "35  'Failed login attempt from IP 192.168.1.10',       1\n",
      "37     'Failed login attempt from IP 10.0.0.14',       1\n",
      "39  'Failed login attempt from IP 192.168.1.11',       1\n",
      "41     'Failed login attempt from IP 10.0.0.15',       1\n",
      "43  'Failed login attempt from IP 192.168.1.12',       1\n",
      "45     'Failed login attempt from IP 10.0.0.16',       1\n",
      "47  'Failed login attempt from IP 192.168.1.13',       1\n",
      "49     'Failed login attempt from IP 10.0.0.17',       1\n",
      "51  'Failed login attempt from IP 192.168.1.14',       1\n",
      "53     'Failed login attempt from IP 10.0.0.18',       1\n",
      "55  'Failed login attempt from IP 192.168.1.15',       1\n",
      "57     'Failed login attempt from IP 10.0.0.19',       1\n",
      "59  'Failed login attempt from IP 192.168.1.16',       1\n",
      "61     'Failed login attempt from IP 10.0.0.20',       1\n",
      "63  'Failed login attempt from IP 192.168.1.17',       1\n",
      "65     'Failed login attempt from IP 10.0.0.21',       1\n",
      "67  'Failed login attempt from IP 192.168.1.18',       1\n",
      "69     'Failed login attempt from IP 10.0.0.22',       1\n",
      "71  'Failed login attempt from IP 192.168.1.19',       1\n",
      "73     'Failed login attempt from IP 10.0.0.23',       1\n",
      "75  'Failed login attempt from IP 192.168.1.20',       1\n",
      "77     'Failed login attempt from IP 10.0.0.24',       1\n",
      "79  'Failed login attempt from IP 192.168.1.21',       1\n",
      "81     'Failed login attempt from IP 10.0.0.25',       1\n",
      "83  'Failed login attempt from IP 192.168.1.22',       1\n"
     ]
    }
   ],
   "source": [
    "with open('logs.txt', 'r') as f:\n",
    "    log_data = [line.strip() for line in f.readlines()]\n",
    "\n",
    "# Classify logs\n",
    "threats = classify_logs(log_data)\n",
    "print(threats)"
   ]
  },
  {
   "cell_type": "code",
   "execution_count": null,
   "id": "a684b5b2-ddeb-485c-8ed0-c6f1fba78be2",
   "metadata": {},
   "outputs": [],
   "source": []
  },
  {
   "cell_type": "code",
   "execution_count": null,
   "id": "b3b5b7ed-538f-443f-bc31-f4138edf4b39",
   "metadata": {},
   "outputs": [],
   "source": []
  }
 ],
 "metadata": {
  "kernelspec": {
   "display_name": "Python 3 (ipykernel)",
   "language": "python",
   "name": "python3"
  },
  "language_info": {
   "codemirror_mode": {
    "name": "ipython",
    "version": 3
   },
   "file_extension": ".py",
   "mimetype": "text/x-python",
   "name": "python",
   "nbconvert_exporter": "python",
   "pygments_lexer": "ipython3",
   "version": "3.12.4"
  }
 },
 "nbformat": 4,
 "nbformat_minor": 5
}
